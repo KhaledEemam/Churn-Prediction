{
  "cells": [
    {
      "cell_type": "markdown",
      "metadata": {
        "id": "vZq1F9wql2Ee"
      },
      "source": [
        "# ***Bussiness problem definition***"
      ]
    },
    {
      "cell_type": "markdown",
      "metadata": {
        "id": "rAePs_ddl2BW"
      },
      "source": [
        "For a telecommunications company it's very important to know which of your customers are about to churn your services. You have to investigate in the preliminary indications for their leaving to try to keep them. so The business problem is to reduce customer churn and increase customer retention."
      ]
    },
    {
      "cell_type": "markdown",
      "source": [
        "# ***KPIS that will be imapacted postively***"
      ],
      "metadata": {
        "id": "utPRFi5-2xEl"
      }
    },
    {
      "cell_type": "markdown",
      "source": [
        "1. Getting early warning about customers who are going to churn the company services\n",
        "\n",
        "2. Applying customized plans for the customers who are going to churn the services will lead to higher customers retain rate"
      ],
      "metadata": {
        "id": "IyXKJcgf2xQf"
      }
    },
    {
      "cell_type": "markdown",
      "metadata": {
        "id": "MyIfKOaSXod_"
      },
      "source": [
        "# ***About the dataset***"
      ]
    },
    {
      "cell_type": "markdown",
      "metadata": {
        "id": "8jMWjTc_YEy3"
      },
      "source": [
        "This is a telecommunication customer Dataset.Each row represents a customer, each column contains customer’s attributes described on the column Metadata.\n",
        "\n",
        "The data set includes information about:\n",
        "\n",
        "Customers who left within the last month – the column is called Churn\n",
        "Services that each customer has signed up for – phone, multiple lines, internet, online security, online backup, device protection, tech support, and streaming TV and movies\n",
        "Customer account information – how long they’ve been a customer, contract, payment method, paperless billing, monthly charges, and total charges\n",
        "Demographic info about customers – gender, age range, and if they have partners and dependents"
      ]
    },
    {
      "cell_type": "markdown",
      "metadata": {
        "id": "al0e6ABfX0fa"
      },
      "source": [
        "# ***Importing Packages & Libraries***"
      ]
    },
    {
      "cell_type": "code",
      "execution_count": 11,
      "metadata": {
        "id": "iQvjgtYkJePj"
      },
      "outputs": [],
      "source": [
        "import pandas as pd\n",
        "import numpy as np\n",
        "import matplotlib.pyplot as plt\n",
        "import seaborn as sns\n",
        "from sklearn.model_selection import train_test_split , GridSearchCV\n",
        "from sklearn.preprocessing import MinMaxScaler\n",
        "from sklearn.metrics import f1_score , roc_auc_score , confusion_matrix , accuracy_score , precision_score , recall_score , mutual_info_score, make_scorer\n",
        "from sklearn.linear_model import LogisticRegression\n",
        "from sklearn.tree import DecisionTreeClassifier\n",
        "from sklearn.neural_network import MLPClassifier\n",
        "from sklearn.neighbors import KNeighborsClassifier\n",
        "from sklearn.ensemble import GradientBoostingClassifier\n",
        "from sklearn.svm import SVC\n",
        "from sklearn.ensemble import RandomForestClassifier\n",
        "from imblearn.over_sampling import SMOTE\n",
        "from imblearn.under_sampling import RandomUnderSampler"
      ]
    },
    {
      "cell_type": "markdown",
      "metadata": {
        "id": "sN7viVdUCmLP"
      },
      "source": [
        "# **Importing Data**"
      ]
    },
    {
      "cell_type": "code",
      "execution_count": 12,
      "metadata": {
        "id": "8ztBqxKfKtZt"
      },
      "outputs": [],
      "source": [
        "data = pd.read_csv('/content/WA_Fn-UseC_-Telco-Customer-Churn.csv')\n",
        "df = data.copy(deep=True)\n",
        "pd.set_option('max_columns',50)"
      ]
    },
    {
      "cell_type": "markdown",
      "metadata": {
        "id": "P4XYQZ61FGhY"
      },
      "source": [
        "# ***Data Wrangling***"
      ]
    },
    {
      "cell_type": "markdown",
      "metadata": {
        "id": "x6GS2sW1CsOG"
      },
      "source": [
        "## ***Assessing data quality***\n",
        "\n"
      ]
    },
    {
      "cell_type": "code",
      "execution_count": 13,
      "metadata": {
        "colab": {
          "base_uri": "https://localhost:8080/",
          "height": 357
        },
        "id": "z5NWSvj_p7jN",
        "outputId": "103b5fef-d033-4b70-f0c9-ded5d82df5a2"
      },
      "outputs": [
        {
          "output_type": "execute_result",
          "data": {
            "text/plain": [
              "   customerID  gender  SeniorCitizen Partner Dependents  tenure PhoneService  \\\n",
              "0  7590-VHVEG  Female              0     Yes         No       1           No   \n",
              "1  5575-GNVDE    Male              0      No         No      34          Yes   \n",
              "2  3668-QPYBK    Male              0      No         No       2          Yes   \n",
              "3  7795-CFOCW    Male              0      No         No      45           No   \n",
              "4  9237-HQITU  Female              0      No         No       2          Yes   \n",
              "\n",
              "      MultipleLines InternetService OnlineSecurity OnlineBackup  \\\n",
              "0  No phone service             DSL             No          Yes   \n",
              "1                No             DSL            Yes           No   \n",
              "2                No             DSL            Yes          Yes   \n",
              "3  No phone service             DSL            Yes           No   \n",
              "4                No     Fiber optic             No           No   \n",
              "\n",
              "  DeviceProtection TechSupport StreamingTV StreamingMovies        Contract  \\\n",
              "0               No          No          No              No  Month-to-month   \n",
              "1              Yes          No          No              No        One year   \n",
              "2               No          No          No              No  Month-to-month   \n",
              "3              Yes         Yes          No              No        One year   \n",
              "4               No          No          No              No  Month-to-month   \n",
              "\n",
              "  PaperlessBilling              PaymentMethod  MonthlyCharges TotalCharges  \\\n",
              "0              Yes           Electronic check           29.85        29.85   \n",
              "1               No               Mailed check           56.95       1889.5   \n",
              "2              Yes               Mailed check           53.85       108.15   \n",
              "3               No  Bank transfer (automatic)           42.30      1840.75   \n",
              "4              Yes           Electronic check           70.70       151.65   \n",
              "\n",
              "  Churn  \n",
              "0    No  \n",
              "1    No  \n",
              "2   Yes  \n",
              "3    No  \n",
              "4   Yes  "
            ],
            "text/html": [
              "\n",
              "  <div id=\"df-01692175-d00c-4a80-a7a3-a091c68d6aa8\">\n",
              "    <div class=\"colab-df-container\">\n",
              "      <div>\n",
              "<style scoped>\n",
              "    .dataframe tbody tr th:only-of-type {\n",
              "        vertical-align: middle;\n",
              "    }\n",
              "\n",
              "    .dataframe tbody tr th {\n",
              "        vertical-align: top;\n",
              "    }\n",
              "\n",
              "    .dataframe thead th {\n",
              "        text-align: right;\n",
              "    }\n",
              "</style>\n",
              "<table border=\"1\" class=\"dataframe\">\n",
              "  <thead>\n",
              "    <tr style=\"text-align: right;\">\n",
              "      <th></th>\n",
              "      <th>customerID</th>\n",
              "      <th>gender</th>\n",
              "      <th>SeniorCitizen</th>\n",
              "      <th>Partner</th>\n",
              "      <th>Dependents</th>\n",
              "      <th>tenure</th>\n",
              "      <th>PhoneService</th>\n",
              "      <th>MultipleLines</th>\n",
              "      <th>InternetService</th>\n",
              "      <th>OnlineSecurity</th>\n",
              "      <th>OnlineBackup</th>\n",
              "      <th>DeviceProtection</th>\n",
              "      <th>TechSupport</th>\n",
              "      <th>StreamingTV</th>\n",
              "      <th>StreamingMovies</th>\n",
              "      <th>Contract</th>\n",
              "      <th>PaperlessBilling</th>\n",
              "      <th>PaymentMethod</th>\n",
              "      <th>MonthlyCharges</th>\n",
              "      <th>TotalCharges</th>\n",
              "      <th>Churn</th>\n",
              "    </tr>\n",
              "  </thead>\n",
              "  <tbody>\n",
              "    <tr>\n",
              "      <th>0</th>\n",
              "      <td>7590-VHVEG</td>\n",
              "      <td>Female</td>\n",
              "      <td>0</td>\n",
              "      <td>Yes</td>\n",
              "      <td>No</td>\n",
              "      <td>1</td>\n",
              "      <td>No</td>\n",
              "      <td>No phone service</td>\n",
              "      <td>DSL</td>\n",
              "      <td>No</td>\n",
              "      <td>Yes</td>\n",
              "      <td>No</td>\n",
              "      <td>No</td>\n",
              "      <td>No</td>\n",
              "      <td>No</td>\n",
              "      <td>Month-to-month</td>\n",
              "      <td>Yes</td>\n",
              "      <td>Electronic check</td>\n",
              "      <td>29.85</td>\n",
              "      <td>29.85</td>\n",
              "      <td>No</td>\n",
              "    </tr>\n",
              "    <tr>\n",
              "      <th>1</th>\n",
              "      <td>5575-GNVDE</td>\n",
              "      <td>Male</td>\n",
              "      <td>0</td>\n",
              "      <td>No</td>\n",
              "      <td>No</td>\n",
              "      <td>34</td>\n",
              "      <td>Yes</td>\n",
              "      <td>No</td>\n",
              "      <td>DSL</td>\n",
              "      <td>Yes</td>\n",
              "      <td>No</td>\n",
              "      <td>Yes</td>\n",
              "      <td>No</td>\n",
              "      <td>No</td>\n",
              "      <td>No</td>\n",
              "      <td>One year</td>\n",
              "      <td>No</td>\n",
              "      <td>Mailed check</td>\n",
              "      <td>56.95</td>\n",
              "      <td>1889.5</td>\n",
              "      <td>No</td>\n",
              "    </tr>\n",
              "    <tr>\n",
              "      <th>2</th>\n",
              "      <td>3668-QPYBK</td>\n",
              "      <td>Male</td>\n",
              "      <td>0</td>\n",
              "      <td>No</td>\n",
              "      <td>No</td>\n",
              "      <td>2</td>\n",
              "      <td>Yes</td>\n",
              "      <td>No</td>\n",
              "      <td>DSL</td>\n",
              "      <td>Yes</td>\n",
              "      <td>Yes</td>\n",
              "      <td>No</td>\n",
              "      <td>No</td>\n",
              "      <td>No</td>\n",
              "      <td>No</td>\n",
              "      <td>Month-to-month</td>\n",
              "      <td>Yes</td>\n",
              "      <td>Mailed check</td>\n",
              "      <td>53.85</td>\n",
              "      <td>108.15</td>\n",
              "      <td>Yes</td>\n",
              "    </tr>\n",
              "    <tr>\n",
              "      <th>3</th>\n",
              "      <td>7795-CFOCW</td>\n",
              "      <td>Male</td>\n",
              "      <td>0</td>\n",
              "      <td>No</td>\n",
              "      <td>No</td>\n",
              "      <td>45</td>\n",
              "      <td>No</td>\n",
              "      <td>No phone service</td>\n",
              "      <td>DSL</td>\n",
              "      <td>Yes</td>\n",
              "      <td>No</td>\n",
              "      <td>Yes</td>\n",
              "      <td>Yes</td>\n",
              "      <td>No</td>\n",
              "      <td>No</td>\n",
              "      <td>One year</td>\n",
              "      <td>No</td>\n",
              "      <td>Bank transfer (automatic)</td>\n",
              "      <td>42.30</td>\n",
              "      <td>1840.75</td>\n",
              "      <td>No</td>\n",
              "    </tr>\n",
              "    <tr>\n",
              "      <th>4</th>\n",
              "      <td>9237-HQITU</td>\n",
              "      <td>Female</td>\n",
              "      <td>0</td>\n",
              "      <td>No</td>\n",
              "      <td>No</td>\n",
              "      <td>2</td>\n",
              "      <td>Yes</td>\n",
              "      <td>No</td>\n",
              "      <td>Fiber optic</td>\n",
              "      <td>No</td>\n",
              "      <td>No</td>\n",
              "      <td>No</td>\n",
              "      <td>No</td>\n",
              "      <td>No</td>\n",
              "      <td>No</td>\n",
              "      <td>Month-to-month</td>\n",
              "      <td>Yes</td>\n",
              "      <td>Electronic check</td>\n",
              "      <td>70.70</td>\n",
              "      <td>151.65</td>\n",
              "      <td>Yes</td>\n",
              "    </tr>\n",
              "  </tbody>\n",
              "</table>\n",
              "</div>\n",
              "      <button class=\"colab-df-convert\" onclick=\"convertToInteractive('df-01692175-d00c-4a80-a7a3-a091c68d6aa8')\"\n",
              "              title=\"Convert this dataframe to an interactive table.\"\n",
              "              style=\"display:none;\">\n",
              "        \n",
              "  <svg xmlns=\"http://www.w3.org/2000/svg\" height=\"24px\"viewBox=\"0 0 24 24\"\n",
              "       width=\"24px\">\n",
              "    <path d=\"M0 0h24v24H0V0z\" fill=\"none\"/>\n",
              "    <path d=\"M18.56 5.44l.94 2.06.94-2.06 2.06-.94-2.06-.94-.94-2.06-.94 2.06-2.06.94zm-11 1L8.5 8.5l.94-2.06 2.06-.94-2.06-.94L8.5 2.5l-.94 2.06-2.06.94zm10 10l.94 2.06.94-2.06 2.06-.94-2.06-.94-.94-2.06-.94 2.06-2.06.94z\"/><path d=\"M17.41 7.96l-1.37-1.37c-.4-.4-.92-.59-1.43-.59-.52 0-1.04.2-1.43.59L10.3 9.45l-7.72 7.72c-.78.78-.78 2.05 0 2.83L4 21.41c.39.39.9.59 1.41.59.51 0 1.02-.2 1.41-.59l7.78-7.78 2.81-2.81c.8-.78.8-2.07 0-2.86zM5.41 20L4 18.59l7.72-7.72 1.47 1.35L5.41 20z\"/>\n",
              "  </svg>\n",
              "      </button>\n",
              "      \n",
              "  <style>\n",
              "    .colab-df-container {\n",
              "      display:flex;\n",
              "      flex-wrap:wrap;\n",
              "      gap: 12px;\n",
              "    }\n",
              "\n",
              "    .colab-df-convert {\n",
              "      background-color: #E8F0FE;\n",
              "      border: none;\n",
              "      border-radius: 50%;\n",
              "      cursor: pointer;\n",
              "      display: none;\n",
              "      fill: #1967D2;\n",
              "      height: 32px;\n",
              "      padding: 0 0 0 0;\n",
              "      width: 32px;\n",
              "    }\n",
              "\n",
              "    .colab-df-convert:hover {\n",
              "      background-color: #E2EBFA;\n",
              "      box-shadow: 0px 1px 2px rgba(60, 64, 67, 0.3), 0px 1px 3px 1px rgba(60, 64, 67, 0.15);\n",
              "      fill: #174EA6;\n",
              "    }\n",
              "\n",
              "    [theme=dark] .colab-df-convert {\n",
              "      background-color: #3B4455;\n",
              "      fill: #D2E3FC;\n",
              "    }\n",
              "\n",
              "    [theme=dark] .colab-df-convert:hover {\n",
              "      background-color: #434B5C;\n",
              "      box-shadow: 0px 1px 3px 1px rgba(0, 0, 0, 0.15);\n",
              "      filter: drop-shadow(0px 1px 2px rgba(0, 0, 0, 0.3));\n",
              "      fill: #FFFFFF;\n",
              "    }\n",
              "  </style>\n",
              "\n",
              "      <script>\n",
              "        const buttonEl =\n",
              "          document.querySelector('#df-01692175-d00c-4a80-a7a3-a091c68d6aa8 button.colab-df-convert');\n",
              "        buttonEl.style.display =\n",
              "          google.colab.kernel.accessAllowed ? 'block' : 'none';\n",
              "\n",
              "        async function convertToInteractive(key) {\n",
              "          const element = document.querySelector('#df-01692175-d00c-4a80-a7a3-a091c68d6aa8');\n",
              "          const dataTable =\n",
              "            await google.colab.kernel.invokeFunction('convertToInteractive',\n",
              "                                                     [key], {});\n",
              "          if (!dataTable) return;\n",
              "\n",
              "          const docLinkHtml = 'Like what you see? Visit the ' +\n",
              "            '<a target=\"_blank\" href=https://colab.research.google.com/notebooks/data_table.ipynb>data table notebook</a>'\n",
              "            + ' to learn more about interactive tables.';\n",
              "          element.innerHTML = '';\n",
              "          dataTable['output_type'] = 'display_data';\n",
              "          await google.colab.output.renderOutput(dataTable, element);\n",
              "          const docLink = document.createElement('div');\n",
              "          docLink.innerHTML = docLinkHtml;\n",
              "          element.appendChild(docLink);\n",
              "        }\n",
              "      </script>\n",
              "    </div>\n",
              "  </div>\n",
              "  "
            ]
          },
          "metadata": {},
          "execution_count": 13
        }
      ],
      "source": [
        "df.head()"
      ]
    },
    {
      "cell_type": "code",
      "execution_count": 14,
      "metadata": {
        "colab": {
          "base_uri": "https://localhost:8080/"
        },
        "id": "FHJSOHVIK0FQ",
        "outputId": "c83b5046-6c71-4705-c652-aab8780172fa"
      },
      "outputs": [
        {
          "output_type": "stream",
          "name": "stdout",
          "text": [
            "<class 'pandas.core.frame.DataFrame'>\n",
            "RangeIndex: 7043 entries, 0 to 7042\n",
            "Data columns (total 21 columns):\n",
            " #   Column            Non-Null Count  Dtype  \n",
            "---  ------            --------------  -----  \n",
            " 0   customerID        7043 non-null   object \n",
            " 1   gender            7043 non-null   object \n",
            " 2   SeniorCitizen     7043 non-null   int64  \n",
            " 3   Partner           7043 non-null   object \n",
            " 4   Dependents        7043 non-null   object \n",
            " 5   tenure            7043 non-null   int64  \n",
            " 6   PhoneService      7043 non-null   object \n",
            " 7   MultipleLines     7043 non-null   object \n",
            " 8   InternetService   7043 non-null   object \n",
            " 9   OnlineSecurity    7043 non-null   object \n",
            " 10  OnlineBackup      7043 non-null   object \n",
            " 11  DeviceProtection  7043 non-null   object \n",
            " 12  TechSupport       7043 non-null   object \n",
            " 13  StreamingTV       7043 non-null   object \n",
            " 14  StreamingMovies   7043 non-null   object \n",
            " 15  Contract          7043 non-null   object \n",
            " 16  PaperlessBilling  7043 non-null   object \n",
            " 17  PaymentMethod     7043 non-null   object \n",
            " 18  MonthlyCharges    7043 non-null   float64\n",
            " 19  TotalCharges      7043 non-null   object \n",
            " 20  Churn             7043 non-null   object \n",
            "dtypes: float64(1), int64(2), object(18)\n",
            "memory usage: 1.1+ MB\n"
          ]
        }
      ],
      "source": [
        "df.info()"
      ]
    },
    {
      "cell_type": "markdown",
      "metadata": {
        "id": "L-vSs3AryToI"
      },
      "source": [
        "* It looks that many columns datatypes needs to be fixed"
      ]
    },
    {
      "cell_type": "code",
      "execution_count": 15,
      "metadata": {
        "id": "S10p2itc3zeH"
      },
      "outputs": [],
      "source": [
        "columns = ['SeniorCitizen','gender','Partner','Dependents','PhoneService','MultipleLines','InternetService',\n",
        " 'OnlineSecurity', 'OnlineBackup', 'DeviceProtection', 'TechSupport', 'StreamingTV', 'StreamingMovies',\n",
        " 'Contract', 'PaperlessBilling', 'PaymentMethod', 'Churn']"
      ]
    },
    {
      "cell_type": "code",
      "execution_count": 16,
      "metadata": {
        "colab": {
          "base_uri": "https://localhost:8080/"
        },
        "id": "ykqpJ4Xu2znS",
        "outputId": "3f2d5011-c0d9-43fa-c183-facde9daeb30"
      },
      "outputs": [
        {
          "output_type": "stream",
          "name": "stdout",
          "text": [
            "Unique values for SeniorCitizen :\n",
            "0    5901\n",
            "1    1142\n",
            "Name: SeniorCitizen, dtype: int64\n",
            "--------------------------------------------------\n",
            "Unique values for gender :\n",
            "Male      3555\n",
            "Female    3488\n",
            "Name: gender, dtype: int64\n",
            "--------------------------------------------------\n",
            "Unique values for Partner :\n",
            "No     3641\n",
            "Yes    3402\n",
            "Name: Partner, dtype: int64\n",
            "--------------------------------------------------\n",
            "Unique values for Dependents :\n",
            "No     4933\n",
            "Yes    2110\n",
            "Name: Dependents, dtype: int64\n",
            "--------------------------------------------------\n",
            "Unique values for PhoneService :\n",
            "Yes    6361\n",
            "No      682\n",
            "Name: PhoneService, dtype: int64\n",
            "--------------------------------------------------\n",
            "Unique values for MultipleLines :\n",
            "No                  3390\n",
            "Yes                 2971\n",
            "No phone service     682\n",
            "Name: MultipleLines, dtype: int64\n",
            "--------------------------------------------------\n",
            "Unique values for InternetService :\n",
            "Fiber optic    3096\n",
            "DSL            2421\n",
            "No             1526\n",
            "Name: InternetService, dtype: int64\n",
            "--------------------------------------------------\n",
            "Unique values for OnlineSecurity :\n",
            "No                     3498\n",
            "Yes                    2019\n",
            "No internet service    1526\n",
            "Name: OnlineSecurity, dtype: int64\n",
            "--------------------------------------------------\n",
            "Unique values for OnlineBackup :\n",
            "No                     3088\n",
            "Yes                    2429\n",
            "No internet service    1526\n",
            "Name: OnlineBackup, dtype: int64\n",
            "--------------------------------------------------\n",
            "Unique values for DeviceProtection :\n",
            "No                     3095\n",
            "Yes                    2422\n",
            "No internet service    1526\n",
            "Name: DeviceProtection, dtype: int64\n",
            "--------------------------------------------------\n",
            "Unique values for TechSupport :\n",
            "No                     3473\n",
            "Yes                    2044\n",
            "No internet service    1526\n",
            "Name: TechSupport, dtype: int64\n",
            "--------------------------------------------------\n",
            "Unique values for StreamingTV :\n",
            "No                     2810\n",
            "Yes                    2707\n",
            "No internet service    1526\n",
            "Name: StreamingTV, dtype: int64\n",
            "--------------------------------------------------\n",
            "Unique values for StreamingMovies :\n",
            "No                     2785\n",
            "Yes                    2732\n",
            "No internet service    1526\n",
            "Name: StreamingMovies, dtype: int64\n",
            "--------------------------------------------------\n",
            "Unique values for Contract :\n",
            "Month-to-month    3875\n",
            "Two year          1695\n",
            "One year          1473\n",
            "Name: Contract, dtype: int64\n",
            "--------------------------------------------------\n",
            "Unique values for PaperlessBilling :\n",
            "Yes    4171\n",
            "No     2872\n",
            "Name: PaperlessBilling, dtype: int64\n",
            "--------------------------------------------------\n",
            "Unique values for PaymentMethod :\n",
            "Electronic check             2365\n",
            "Mailed check                 1612\n",
            "Bank transfer (automatic)    1544\n",
            "Credit card (automatic)      1522\n",
            "Name: PaymentMethod, dtype: int64\n",
            "--------------------------------------------------\n",
            "Unique values for Churn :\n",
            "No     5174\n",
            "Yes    1869\n",
            "Name: Churn, dtype: int64\n",
            "--------------------------------------------------\n"
          ]
        }
      ],
      "source": [
        "for column in columns :\n",
        "  values_count = df[column].value_counts()\n",
        "  print(f'Unique values for {column} :\\n{values_count}')\n",
        "  print('-'*50)"
      ]
    },
    {
      "cell_type": "markdown",
      "metadata": {
        "id": "fMI_H2ZcXQBf"
      },
      "source": [
        "* Since the main focus here is to identify the causes for customer's churn then it won't make a difference to know if the customer hasn't subscribe for the dependant service or for the service it self, so the values of columns like StreamingTV , StreamingMovies , MultipleLines , ... etc will be converted to be only [ Yes , No ]"
      ]
    },
    {
      "cell_type": "code",
      "execution_count": 17,
      "metadata": {
        "colab": {
          "base_uri": "https://localhost:8080/",
          "height": 300
        },
        "id": "ikOLScC14G6Q",
        "outputId": "1b0916ce-982c-4dc7-de26-2b4607dae75e"
      },
      "outputs": [
        {
          "output_type": "execute_result",
          "data": {
            "text/plain": [
              "       SeniorCitizen       tenure  MonthlyCharges\n",
              "count    7043.000000  7043.000000     7043.000000\n",
              "mean        0.162147    32.371149       64.761692\n",
              "std         0.368612    24.559481       30.090047\n",
              "min         0.000000     0.000000       18.250000\n",
              "25%         0.000000     9.000000       35.500000\n",
              "50%         0.000000    29.000000       70.350000\n",
              "75%         0.000000    55.000000       89.850000\n",
              "max         1.000000    72.000000      118.750000"
            ],
            "text/html": [
              "\n",
              "  <div id=\"df-0184e17e-2ad4-4cff-a9ac-9bf4655b8989\">\n",
              "    <div class=\"colab-df-container\">\n",
              "      <div>\n",
              "<style scoped>\n",
              "    .dataframe tbody tr th:only-of-type {\n",
              "        vertical-align: middle;\n",
              "    }\n",
              "\n",
              "    .dataframe tbody tr th {\n",
              "        vertical-align: top;\n",
              "    }\n",
              "\n",
              "    .dataframe thead th {\n",
              "        text-align: right;\n",
              "    }\n",
              "</style>\n",
              "<table border=\"1\" class=\"dataframe\">\n",
              "  <thead>\n",
              "    <tr style=\"text-align: right;\">\n",
              "      <th></th>\n",
              "      <th>SeniorCitizen</th>\n",
              "      <th>tenure</th>\n",
              "      <th>MonthlyCharges</th>\n",
              "    </tr>\n",
              "  </thead>\n",
              "  <tbody>\n",
              "    <tr>\n",
              "      <th>count</th>\n",
              "      <td>7043.000000</td>\n",
              "      <td>7043.000000</td>\n",
              "      <td>7043.000000</td>\n",
              "    </tr>\n",
              "    <tr>\n",
              "      <th>mean</th>\n",
              "      <td>0.162147</td>\n",
              "      <td>32.371149</td>\n",
              "      <td>64.761692</td>\n",
              "    </tr>\n",
              "    <tr>\n",
              "      <th>std</th>\n",
              "      <td>0.368612</td>\n",
              "      <td>24.559481</td>\n",
              "      <td>30.090047</td>\n",
              "    </tr>\n",
              "    <tr>\n",
              "      <th>min</th>\n",
              "      <td>0.000000</td>\n",
              "      <td>0.000000</td>\n",
              "      <td>18.250000</td>\n",
              "    </tr>\n",
              "    <tr>\n",
              "      <th>25%</th>\n",
              "      <td>0.000000</td>\n",
              "      <td>9.000000</td>\n",
              "      <td>35.500000</td>\n",
              "    </tr>\n",
              "    <tr>\n",
              "      <th>50%</th>\n",
              "      <td>0.000000</td>\n",
              "      <td>29.000000</td>\n",
              "      <td>70.350000</td>\n",
              "    </tr>\n",
              "    <tr>\n",
              "      <th>75%</th>\n",
              "      <td>0.000000</td>\n",
              "      <td>55.000000</td>\n",
              "      <td>89.850000</td>\n",
              "    </tr>\n",
              "    <tr>\n",
              "      <th>max</th>\n",
              "      <td>1.000000</td>\n",
              "      <td>72.000000</td>\n",
              "      <td>118.750000</td>\n",
              "    </tr>\n",
              "  </tbody>\n",
              "</table>\n",
              "</div>\n",
              "      <button class=\"colab-df-convert\" onclick=\"convertToInteractive('df-0184e17e-2ad4-4cff-a9ac-9bf4655b8989')\"\n",
              "              title=\"Convert this dataframe to an interactive table.\"\n",
              "              style=\"display:none;\">\n",
              "        \n",
              "  <svg xmlns=\"http://www.w3.org/2000/svg\" height=\"24px\"viewBox=\"0 0 24 24\"\n",
              "       width=\"24px\">\n",
              "    <path d=\"M0 0h24v24H0V0z\" fill=\"none\"/>\n",
              "    <path d=\"M18.56 5.44l.94 2.06.94-2.06 2.06-.94-2.06-.94-.94-2.06-.94 2.06-2.06.94zm-11 1L8.5 8.5l.94-2.06 2.06-.94-2.06-.94L8.5 2.5l-.94 2.06-2.06.94zm10 10l.94 2.06.94-2.06 2.06-.94-2.06-.94-.94-2.06-.94 2.06-2.06.94z\"/><path d=\"M17.41 7.96l-1.37-1.37c-.4-.4-.92-.59-1.43-.59-.52 0-1.04.2-1.43.59L10.3 9.45l-7.72 7.72c-.78.78-.78 2.05 0 2.83L4 21.41c.39.39.9.59 1.41.59.51 0 1.02-.2 1.41-.59l7.78-7.78 2.81-2.81c.8-.78.8-2.07 0-2.86zM5.41 20L4 18.59l7.72-7.72 1.47 1.35L5.41 20z\"/>\n",
              "  </svg>\n",
              "      </button>\n",
              "      \n",
              "  <style>\n",
              "    .colab-df-container {\n",
              "      display:flex;\n",
              "      flex-wrap:wrap;\n",
              "      gap: 12px;\n",
              "    }\n",
              "\n",
              "    .colab-df-convert {\n",
              "      background-color: #E8F0FE;\n",
              "      border: none;\n",
              "      border-radius: 50%;\n",
              "      cursor: pointer;\n",
              "      display: none;\n",
              "      fill: #1967D2;\n",
              "      height: 32px;\n",
              "      padding: 0 0 0 0;\n",
              "      width: 32px;\n",
              "    }\n",
              "\n",
              "    .colab-df-convert:hover {\n",
              "      background-color: #E2EBFA;\n",
              "      box-shadow: 0px 1px 2px rgba(60, 64, 67, 0.3), 0px 1px 3px 1px rgba(60, 64, 67, 0.15);\n",
              "      fill: #174EA6;\n",
              "    }\n",
              "\n",
              "    [theme=dark] .colab-df-convert {\n",
              "      background-color: #3B4455;\n",
              "      fill: #D2E3FC;\n",
              "    }\n",
              "\n",
              "    [theme=dark] .colab-df-convert:hover {\n",
              "      background-color: #434B5C;\n",
              "      box-shadow: 0px 1px 3px 1px rgba(0, 0, 0, 0.15);\n",
              "      filter: drop-shadow(0px 1px 2px rgba(0, 0, 0, 0.3));\n",
              "      fill: #FFFFFF;\n",
              "    }\n",
              "  </style>\n",
              "\n",
              "      <script>\n",
              "        const buttonEl =\n",
              "          document.querySelector('#df-0184e17e-2ad4-4cff-a9ac-9bf4655b8989 button.colab-df-convert');\n",
              "        buttonEl.style.display =\n",
              "          google.colab.kernel.accessAllowed ? 'block' : 'none';\n",
              "\n",
              "        async function convertToInteractive(key) {\n",
              "          const element = document.querySelector('#df-0184e17e-2ad4-4cff-a9ac-9bf4655b8989');\n",
              "          const dataTable =\n",
              "            await google.colab.kernel.invokeFunction('convertToInteractive',\n",
              "                                                     [key], {});\n",
              "          if (!dataTable) return;\n",
              "\n",
              "          const docLinkHtml = 'Like what you see? Visit the ' +\n",
              "            '<a target=\"_blank\" href=https://colab.research.google.com/notebooks/data_table.ipynb>data table notebook</a>'\n",
              "            + ' to learn more about interactive tables.';\n",
              "          element.innerHTML = '';\n",
              "          dataTable['output_type'] = 'display_data';\n",
              "          await google.colab.output.renderOutput(dataTable, element);\n",
              "          const docLink = document.createElement('div');\n",
              "          docLink.innerHTML = docLinkHtml;\n",
              "          element.appendChild(docLink);\n",
              "        }\n",
              "      </script>\n",
              "    </div>\n",
              "  </div>\n",
              "  "
            ]
          },
          "metadata": {},
          "execution_count": 17
        }
      ],
      "source": [
        "df.describe()"
      ]
    },
    {
      "cell_type": "code",
      "execution_count": 18,
      "metadata": {
        "colab": {
          "base_uri": "https://localhost:8080/"
        },
        "id": "RigWEdMT4RY1",
        "outputId": "e3782a4e-cbb5-40e1-b23c-872ef54fbd2b"
      },
      "outputs": [
        {
          "output_type": "execute_result",
          "data": {
            "text/plain": [
              "0    5901\n",
              "1    1142\n",
              "Name: SeniorCitizen, dtype: int64"
            ]
          },
          "metadata": {},
          "execution_count": 18
        }
      ],
      "source": [
        "df[\"SeniorCitizen\"].value_counts()"
      ]
    },
    {
      "cell_type": "code",
      "execution_count": 20,
      "metadata": {
        "colab": {
          "base_uri": "https://localhost:8080/"
        },
        "id": "jhO79Z6uYsjy",
        "outputId": "cd06f0ea-41df-4849-c6a6-45259d6541ed"
      },
      "outputs": [
        {
          "output_type": "stream",
          "name": "stdout",
          "text": [
            "The index of item with NULL input is : 488\n",
            "The index of item with NULL input is : 753\n",
            "The index of item with NULL input is : 936\n",
            "The index of item with NULL input is : 1082\n",
            "The index of item with NULL input is : 1340\n",
            "The index of item with NULL input is : 3331\n",
            "The index of item with NULL input is : 3826\n",
            "The index of item with NULL input is : 4380\n",
            "The index of item with NULL input is : 5218\n",
            "The index of item with NULL input is : 6670\n",
            "The index of item with NULL input is : 6754\n",
            "Number of records with NULL values at TotalCharges column is 11\n"
          ]
        }
      ],
      "source": [
        "TotalCharges_null_indexes = []\n",
        "for index,item in enumerate(df['TotalCharges']) :\n",
        "  try :\n",
        "    new_item = float(item)\n",
        "  except :\n",
        "    TotalCharges_null_indexes.append(index)\n",
        "    print(f\"The index of item with NULL input is : {index}\")\n",
        "print(f\"Number of records with NULL values at TotalCharges column is {len(TotalCharges_null_indexes)}\")"
      ]
    },
    {
      "cell_type": "markdown",
      "metadata": {
        "id": "kRIJevCBY3rg"
      },
      "source": [
        "* Since there's only 11 rows with null values then i'll drop them as their weight is nothing compared to the full data"
      ]
    },
    {
      "cell_type": "markdown",
      "metadata": {
        "id": "M0qtBvPv1BnM"
      },
      "source": [
        "**Data Issues**\n",
        "\n",
        "1- SeniorCitizen,Partner,Dependents,PhoneService,PaymentMethod, PaperlessBilling and Churn columns datatype should be converted to bool\n",
        "\n",
        "2- dropping Null Values in TotalCharges column\n",
        "\n",
        "3- TotalCharges column datatype should be converted to float\n",
        "\n",
        "4- Converting services columns into only [ Yes , No ]"
      ]
    },
    {
      "cell_type": "markdown",
      "metadata": {
        "id": "frxETEqZE-gl"
      },
      "source": [
        "## ***Cleaning data***"
      ]
    },
    {
      "cell_type": "code",
      "execution_count": 115,
      "metadata": {
        "id": "RwOn9947eUEa"
      },
      "outputs": [],
      "source": [
        "object_to_bool_columns = ['Partner','Dependents','PhoneService','PaperlessBilling','Churn']\n",
        "for column in object_to_bool_columns :\n",
        "  df[column] = df[column].replace({\"Yes\" : \"True\" , \"No\" : \"False\" })\n",
        "  # this step to convret the \"True\" string into real bool\n",
        "  df[column] = df[column].apply(lambda x : x == 'True' )"
      ]
    },
    {
      "cell_type": "code",
      "execution_count": 116,
      "metadata": {
        "id": "_TWaH94kexdP"
      },
      "outputs": [],
      "source": [
        "df['SeniorCitizen'] = df['SeniorCitizen'].astype(bool)\n",
        "# Replacing values in the service columns\n",
        "df['MultipleLines'] = df['MultipleLines'].replace({\"Yes\":\"True\" ,\"No\" : \"False\",\"No phone service\":\"False\"})\n",
        "# this step to convert the \"True\" string into real bool\n",
        "df['MultipleLines'] = df['MultipleLines'].apply(lambda x : x == 'True' )"
      ]
    },
    {
      "cell_type": "code",
      "execution_count": 117,
      "metadata": {
        "id": "qww74J8MjAh3"
      },
      "outputs": [],
      "source": [
        "internet_service_columns = ['OnlineSecurity','OnlineBackup','DeviceProtection','StreamingTV','TechSupport','StreamingMovies']\n",
        "for column in internet_service_columns :\n",
        "  df[column] = df[column].replace({\"Yes\":\"True\" ,\"No\" : \"False\",\"No internet service\":\"False\"})\n",
        "  # this step to convert the \"True\" string into real bool\n",
        "  df[column] = df[column].apply(lambda x : x == 'True' )"
      ]
    },
    {
      "cell_type": "code",
      "execution_count": 118,
      "metadata": {
        "id": "FUyRmRWv9XA_"
      },
      "outputs": [],
      "source": [
        "# Dropping null rows\n",
        "df = df.drop(TotalCharges_null_indexes)"
      ]
    },
    {
      "cell_type": "code",
      "execution_count": 119,
      "metadata": {
        "id": "sZerMOq-B7Ej"
      },
      "outputs": [],
      "source": [
        "# convert TotalCharges column datatype into float\n",
        "df[\"TotalCharges\"] = df[\"TotalCharges\"].astype(float) "
      ]
    },
    {
      "cell_type": "code",
      "execution_count": 120,
      "metadata": {
        "id": "c3YjVjyLz0AL"
      },
      "outputs": [],
      "source": [
        "df.drop_duplicates(inplace=True)"
      ]
    },
    {
      "cell_type": "code",
      "execution_count": 121,
      "metadata": {
        "colab": {
          "base_uri": "https://localhost:8080/"
        },
        "id": "Y2_k_cT9j3uR",
        "outputId": "682c283e-2a7b-424b-cf97-4518bf141ea9"
      },
      "outputs": [
        {
          "output_type": "stream",
          "name": "stdout",
          "text": [
            "<class 'pandas.core.frame.DataFrame'>\n",
            "Int64Index: 7032 entries, 0 to 7042\n",
            "Data columns (total 21 columns):\n",
            " #   Column            Non-Null Count  Dtype  \n",
            "---  ------            --------------  -----  \n",
            " 0   customerID        7032 non-null   object \n",
            " 1   gender            7032 non-null   object \n",
            " 2   SeniorCitizen     7032 non-null   bool   \n",
            " 3   Partner           7032 non-null   bool   \n",
            " 4   Dependents        7032 non-null   bool   \n",
            " 5   tenure            7032 non-null   int64  \n",
            " 6   PhoneService      7032 non-null   bool   \n",
            " 7   MultipleLines     7032 non-null   bool   \n",
            " 8   InternetService   7032 non-null   object \n",
            " 9   OnlineSecurity    7032 non-null   bool   \n",
            " 10  OnlineBackup      7032 non-null   bool   \n",
            " 11  DeviceProtection  7032 non-null   bool   \n",
            " 12  TechSupport       7032 non-null   bool   \n",
            " 13  StreamingTV       7032 non-null   bool   \n",
            " 14  StreamingMovies   7032 non-null   bool   \n",
            " 15  Contract          7032 non-null   object \n",
            " 16  PaperlessBilling  7032 non-null   bool   \n",
            " 17  PaymentMethod     7032 non-null   object \n",
            " 18  MonthlyCharges    7032 non-null   float64\n",
            " 19  TotalCharges      7032 non-null   float64\n",
            " 20  Churn             7032 non-null   bool   \n",
            "dtypes: bool(13), float64(2), int64(1), object(5)\n",
            "memory usage: 583.7+ KB\n"
          ]
        }
      ],
      "source": [
        "df.info()"
      ]
    },
    {
      "cell_type": "markdown",
      "metadata": {
        "id": "-OPD_3Q9k1PT"
      },
      "source": [
        "* Now after i made sure that all the data types and records are correct, the data is ready to be explored."
      ]
    },
    {
      "cell_type": "markdown",
      "metadata": {
        "id": "7sEhqwgWFr-U"
      },
      "source": [
        "# ***Splitting data into training & testing data***\n",
        "\n"
      ]
    },
    {
      "cell_type": "markdown",
      "source": [
        "It would be better to split the data before exploring it to prevent getting any knowledge about it's distibution, even unconsciously."
      ],
      "metadata": {
        "id": "fs1hEnE2a6SH"
      }
    },
    {
      "cell_type": "code",
      "execution_count": 122,
      "metadata": {
        "id": "-W4FnIBZGGCe"
      },
      "outputs": [],
      "source": [
        "df_train , df_testing = train_test_split(df,random_state=42 , test_size = .1 , shuffle = True)"
      ]
    },
    {
      "cell_type": "markdown",
      "metadata": {
        "id": "_W9OPSStFVSs"
      },
      "source": [
        "# ***Exploring data***"
      ]
    },
    {
      "cell_type": "markdown",
      "metadata": {
        "id": "sG7_tMDUl19x"
      },
      "source": [
        "## ***Analytics Questions***"
      ]
    },
    {
      "cell_type": "markdown",
      "metadata": {
        "id": "ZxbV_pxUl13l"
      },
      "source": [
        "* Do customers leave because of a specific bad service they signed up for or it's a common thing with the general customers ?\n",
        "* Do new customers tend to leave more than the old ones ?\n",
        "* Is there's any problem with a specific billing method ?\n",
        "* Is there's any relation between customers churn and their bills or contract type ?\n",
        "* Do we need to implement family plans for the customers with dependents?\n",
        "* Are there any correlations between customer demographics (e.g., age, gender, income) and churn rates?\n",
        "* Can we use machine learning to predict which customers are at highest risk of churning, and if so, which algorithms are most effective?"
      ]
    },
    {
      "cell_type": "code",
      "execution_count": 123,
      "metadata": {
        "colab": {
          "base_uri": "https://localhost:8080/",
          "height": 300
        },
        "id": "6AbS5M9N9XyX",
        "outputId": "8e9f9e01-73c3-4cb2-975b-164b5cbcfbec"
      },
      "outputs": [
        {
          "output_type": "execute_result",
          "data": {
            "text/plain": [
              "            tenure  MonthlyCharges  TotalCharges\n",
              "count  6328.000000     6328.000000   6328.000000\n",
              "mean     32.320322       64.786165   2282.834497\n",
              "std      24.595728       30.163496   2275.980278\n",
              "min       1.000000       18.250000     18.800000\n",
              "25%       9.000000       35.400000    389.512500\n",
              "50%      29.000000       70.350000   1388.600000\n",
              "75%      55.000000       89.900000   3801.400000\n",
              "max      72.000000      118.750000   8684.800000"
            ],
            "text/html": [
              "\n",
              "  <div id=\"df-2af5c877-5088-489a-b66d-b98ddceb616d\">\n",
              "    <div class=\"colab-df-container\">\n",
              "      <div>\n",
              "<style scoped>\n",
              "    .dataframe tbody tr th:only-of-type {\n",
              "        vertical-align: middle;\n",
              "    }\n",
              "\n",
              "    .dataframe tbody tr th {\n",
              "        vertical-align: top;\n",
              "    }\n",
              "\n",
              "    .dataframe thead th {\n",
              "        text-align: right;\n",
              "    }\n",
              "</style>\n",
              "<table border=\"1\" class=\"dataframe\">\n",
              "  <thead>\n",
              "    <tr style=\"text-align: right;\">\n",
              "      <th></th>\n",
              "      <th>tenure</th>\n",
              "      <th>MonthlyCharges</th>\n",
              "      <th>TotalCharges</th>\n",
              "    </tr>\n",
              "  </thead>\n",
              "  <tbody>\n",
              "    <tr>\n",
              "      <th>count</th>\n",
              "      <td>6328.000000</td>\n",
              "      <td>6328.000000</td>\n",
              "      <td>6328.000000</td>\n",
              "    </tr>\n",
              "    <tr>\n",
              "      <th>mean</th>\n",
              "      <td>32.320322</td>\n",
              "      <td>64.786165</td>\n",
              "      <td>2282.834497</td>\n",
              "    </tr>\n",
              "    <tr>\n",
              "      <th>std</th>\n",
              "      <td>24.595728</td>\n",
              "      <td>30.163496</td>\n",
              "      <td>2275.980278</td>\n",
              "    </tr>\n",
              "    <tr>\n",
              "      <th>min</th>\n",
              "      <td>1.000000</td>\n",
              "      <td>18.250000</td>\n",
              "      <td>18.800000</td>\n",
              "    </tr>\n",
              "    <tr>\n",
              "      <th>25%</th>\n",
              "      <td>9.000000</td>\n",
              "      <td>35.400000</td>\n",
              "      <td>389.512500</td>\n",
              "    </tr>\n",
              "    <tr>\n",
              "      <th>50%</th>\n",
              "      <td>29.000000</td>\n",
              "      <td>70.350000</td>\n",
              "      <td>1388.600000</td>\n",
              "    </tr>\n",
              "    <tr>\n",
              "      <th>75%</th>\n",
              "      <td>55.000000</td>\n",
              "      <td>89.900000</td>\n",
              "      <td>3801.400000</td>\n",
              "    </tr>\n",
              "    <tr>\n",
              "      <th>max</th>\n",
              "      <td>72.000000</td>\n",
              "      <td>118.750000</td>\n",
              "      <td>8684.800000</td>\n",
              "    </tr>\n",
              "  </tbody>\n",
              "</table>\n",
              "</div>\n",
              "      <button class=\"colab-df-convert\" onclick=\"convertToInteractive('df-2af5c877-5088-489a-b66d-b98ddceb616d')\"\n",
              "              title=\"Convert this dataframe to an interactive table.\"\n",
              "              style=\"display:none;\">\n",
              "        \n",
              "  <svg xmlns=\"http://www.w3.org/2000/svg\" height=\"24px\"viewBox=\"0 0 24 24\"\n",
              "       width=\"24px\">\n",
              "    <path d=\"M0 0h24v24H0V0z\" fill=\"none\"/>\n",
              "    <path d=\"M18.56 5.44l.94 2.06.94-2.06 2.06-.94-2.06-.94-.94-2.06-.94 2.06-2.06.94zm-11 1L8.5 8.5l.94-2.06 2.06-.94-2.06-.94L8.5 2.5l-.94 2.06-2.06.94zm10 10l.94 2.06.94-2.06 2.06-.94-2.06-.94-.94-2.06-.94 2.06-2.06.94z\"/><path d=\"M17.41 7.96l-1.37-1.37c-.4-.4-.92-.59-1.43-.59-.52 0-1.04.2-1.43.59L10.3 9.45l-7.72 7.72c-.78.78-.78 2.05 0 2.83L4 21.41c.39.39.9.59 1.41.59.51 0 1.02-.2 1.41-.59l7.78-7.78 2.81-2.81c.8-.78.8-2.07 0-2.86zM5.41 20L4 18.59l7.72-7.72 1.47 1.35L5.41 20z\"/>\n",
              "  </svg>\n",
              "      </button>\n",
              "      \n",
              "  <style>\n",
              "    .colab-df-container {\n",
              "      display:flex;\n",
              "      flex-wrap:wrap;\n",
              "      gap: 12px;\n",
              "    }\n",
              "\n",
              "    .colab-df-convert {\n",
              "      background-color: #E8F0FE;\n",
              "      border: none;\n",
              "      border-radius: 50%;\n",
              "      cursor: pointer;\n",
              "      display: none;\n",
              "      fill: #1967D2;\n",
              "      height: 32px;\n",
              "      padding: 0 0 0 0;\n",
              "      width: 32px;\n",
              "    }\n",
              "\n",
              "    .colab-df-convert:hover {\n",
              "      background-color: #E2EBFA;\n",
              "      box-shadow: 0px 1px 2px rgba(60, 64, 67, 0.3), 0px 1px 3px 1px rgba(60, 64, 67, 0.15);\n",
              "      fill: #174EA6;\n",
              "    }\n",
              "\n",
              "    [theme=dark] .colab-df-convert {\n",
              "      background-color: #3B4455;\n",
              "      fill: #D2E3FC;\n",
              "    }\n",
              "\n",
              "    [theme=dark] .colab-df-convert:hover {\n",
              "      background-color: #434B5C;\n",
              "      box-shadow: 0px 1px 3px 1px rgba(0, 0, 0, 0.15);\n",
              "      filter: drop-shadow(0px 1px 2px rgba(0, 0, 0, 0.3));\n",
              "      fill: #FFFFFF;\n",
              "    }\n",
              "  </style>\n",
              "\n",
              "      <script>\n",
              "        const buttonEl =\n",
              "          document.querySelector('#df-2af5c877-5088-489a-b66d-b98ddceb616d button.colab-df-convert');\n",
              "        buttonEl.style.display =\n",
              "          google.colab.kernel.accessAllowed ? 'block' : 'none';\n",
              "\n",
              "        async function convertToInteractive(key) {\n",
              "          const element = document.querySelector('#df-2af5c877-5088-489a-b66d-b98ddceb616d');\n",
              "          const dataTable =\n",
              "            await google.colab.kernel.invokeFunction('convertToInteractive',\n",
              "                                                     [key], {});\n",
              "          if (!dataTable) return;\n",
              "\n",
              "          const docLinkHtml = 'Like what you see? Visit the ' +\n",
              "            '<a target=\"_blank\" href=https://colab.research.google.com/notebooks/data_table.ipynb>data table notebook</a>'\n",
              "            + ' to learn more about interactive tables.';\n",
              "          element.innerHTML = '';\n",
              "          dataTable['output_type'] = 'display_data';\n",
              "          await google.colab.output.renderOutput(dataTable, element);\n",
              "          const docLink = document.createElement('div');\n",
              "          docLink.innerHTML = docLinkHtml;\n",
              "          element.appendChild(docLink);\n",
              "        }\n",
              "      </script>\n",
              "    </div>\n",
              "  </div>\n",
              "  "
            ]
          },
          "metadata": {},
          "execution_count": 123
        }
      ],
      "source": [
        "df_train.describe()"
      ]
    },
    {
      "cell_type": "code",
      "execution_count": 187,
      "metadata": {
        "colab": {
          "base_uri": "https://localhost:8080/",
          "height": 264
        },
        "id": "8QdS6jiI9X1I",
        "outputId": "d477d424-eb35-4e0f-f436-f13b420b4a47"
      },
      "outputs": [
        {
          "output_type": "display_data",
          "data": {
            "text/plain": [
              "<Figure size 432x288 with 1 Axes>"
            ],
            "image/png": "[encoded data removed]"
          },
          "metadata": {}
        }
      ],
      "source": [
        "churn_percentage = round(df_train['Churn'].mean() * 100,2)\n",
        "retain_percentage = round((100 - churn_percentage),2)\n",
        "plt.pie(df_train['Churn'].value_counts(), labels = [f'False {retain_percentage}' , f'True {churn_percentage}'] , explode = [0,.1])\n",
        "plt.title(\"Churn percentage\")\n",
        "plt.show()"
      ]
    },
    {
      "cell_type": "code",
      "execution_count": 126,
      "metadata": {
        "colab": {
          "base_uri": "https://localhost:8080/",
          "height": 369
        },
        "id": "zu8R43nY8D9X",
        "outputId": "6712bfb2-e570-45aa-86d6-f19aa49f33a6"
      },
      "outputs": [
        {
          "output_type": "display_data",
          "data": {
            "text/plain": [
              "<Figure size 421.25x360 with 1 Axes>"
            ],
            "image/png": "[encoded data removed]"
          },
          "metadata": {
            "needs_background": "light"
          }
        }
      ],
      "source": [
        "sns.catplot(data=df_train,x='gender',hue=\"Churn\",kind= 'count') ;"
      ]
    },
    {
      "cell_type": "markdown",
      "metadata": {
        "id": "9LajYT0i8TOD"
      },
      "source": [
        "* Both genders have similar churn rates"
      ]
    },
    {
      "cell_type": "code",
      "execution_count": 127,
      "metadata": {
        "colab": {
          "base_uri": "https://localhost:8080/"
        },
        "id": "7z-c1tPfq5Tk",
        "outputId": "5ee2f1fc-9762-41e8-8be6-7a057009cc9a"
      },
      "outputs": [
        {
          "output_type": "execute_result",
          "data": {
            "text/plain": [
              "SeniorCitizen\n",
              "False    0.235250\n",
              "True     0.418377\n",
              "Name: Churn, dtype: float64"
            ]
          },
          "metadata": {},
          "execution_count": 127
        }
      ],
      "source": [
        "df_train.groupby('SeniorCitizen')['Churn'].mean()"
      ]
    },
    {
      "cell_type": "markdown",
      "metadata": {
        "id": "FuG-aXP81flf"
      },
      "source": [
        "* Senior citizens have a higher churn rate than the other customers"
      ]
    },
    {
      "cell_type": "code",
      "execution_count": 128,
      "metadata": {
        "colab": {
          "base_uri": "https://localhost:8080/"
        },
        "id": "HYIHGcRAfG_b",
        "outputId": "561de017-906e-4f17-bfb8-7c7f2c3f712e"
      },
      "outputs": [
        {
          "output_type": "execute_result",
          "data": {
            "text/plain": [
              "Partner\n",
              "False    0.329985\n",
              "True     0.194545\n",
              "Name: Churn, dtype: float64"
            ]
          },
          "metadata": {},
          "execution_count": 128
        }
      ],
      "source": [
        "df_train.groupby('Partner')['Churn'].mean()"
      ]
    },
    {
      "cell_type": "markdown",
      "metadata": {
        "id": "GcGON2Rf7zPk"
      },
      "source": [
        "* Customers with partners have average churn rate less than the other customers"
      ]
    },
    {
      "cell_type": "code",
      "execution_count": 129,
      "metadata": {
        "colab": {
          "base_uri": "https://localhost:8080/",
          "height": 248
        },
        "id": "Hsa27l6xfGv7",
        "outputId": "bb3c0b51-cb48-45a9-a763-f579f2246c8e"
      },
      "outputs": [
        {
          "output_type": "display_data",
          "data": {
            "text/plain": [
              "<Figure size 432x288 with 1 Axes>"
            ],
            "image/png": "[encoded data removed]"
          },
          "metadata": {}
        }
      ],
      "source": [
        "plt.pie(df_train.groupby('Churn')['Dependents'].value_counts(), labels = [\"False Churn False Dependents\",\"False Churn True Dependents\",\"True Churn False Dependents\",\"True Churn True Dependents\"],\n",
        "        explode = [0,0,0,.1]) ;"
      ]
    },
    {
      "cell_type": "markdown",
      "metadata": {
        "id": "qZ98b6udvdBB"
      },
      "source": [
        "* It's concluded that the existence of dependants doesn't have anything to do with the churn problem"
      ]
    },
    {
      "cell_type": "code",
      "execution_count": 130,
      "metadata": {
        "colab": {
          "base_uri": "https://localhost:8080/",
          "height": 295
        },
        "id": "FSgrFcg51fSf",
        "outputId": "5a22d6f2-8e9f-4603-aa7d-c77069690319"
      },
      "outputs": [
        {
          "output_type": "display_data",
          "data": {
            "text/plain": [
              "<Figure size 432x288 with 1 Axes>"
            ],
            "image/png": "[encoded data removed]"
          },
          "metadata": {
            "needs_background": "light"
          }
        }
      ],
      "source": [
        "df_train.groupby('Churn')['tenure'].hist(alpha=0.9, bins = 20 , grid = False,label=['Flase','True']) ;\n",
        "plt.title(\"Tenure distribution across customers\") ;\n",
        "plt.xlabel(\"Tenure\") ;\n",
        "plt.legend() ;"
      ]
    },
    {
      "cell_type": "markdown",
      "metadata": {
        "id": "gM63HCao7xD0"
      },
      "source": [
        "* People who churn the company services have average tenure less that the others"
      ]
    },
    {
      "cell_type": "code",
      "execution_count": 131,
      "metadata": {
        "colab": {
          "base_uri": "https://localhost:8080/",
          "height": 369
        },
        "id": "1v3yGkfrKlDC",
        "outputId": "4491db58-6ac9-44c0-aaf4-9c3560b13827"
      },
      "outputs": [
        {
          "output_type": "display_data",
          "data": {
            "text/plain": [
              "<Figure size 421.25x360 with 1 Axes>"
            ],
            "image/png": "[encoded data removed]"
          },
          "metadata": {
            "needs_background": "light"
          }
        }
      ],
      "source": [
        "sns.catplot(data=df_train,x='PhoneService',kind='count',hue='Churn') ;"
      ]
    },
    {
      "cell_type": "markdown",
      "metadata": {
        "id": "WmigjvUDM_ex"
      },
      "source": [
        "* Nothing suspicious here because normally the PhoneServices subscribers would be the majority and therefore the higher percent of churn customers will come from them."
      ]
    },
    {
      "cell_type": "code",
      "execution_count": 132,
      "metadata": {
        "colab": {
          "base_uri": "https://localhost:8080/",
          "height": 369
        },
        "id": "sZOhGzHmhUWu",
        "outputId": "82b76b16-b715-4947-eb44-c084edf7ddfc"
      },
      "outputs": [
        {
          "output_type": "display_data",
          "data": {
            "text/plain": [
              "<Figure size 421.25x360 with 1 Axes>"
            ],
            "image/png": "[encoded data removed]"
          },
          "metadata": {
            "needs_background": "light"
          }
        }
      ],
      "source": [
        "sns.catplot(data=df_train,x='InternetService',kind='count',hue='Churn') ;"
      ]
    },
    {
      "cell_type": "markdown",
      "metadata": {
        "id": "upPlhH3rhYjI"
      },
      "source": [
        "* It looks that we might need to investigate more in the fiber optic InternetService."
      ]
    },
    {
      "cell_type": "code",
      "execution_count": 133,
      "metadata": {
        "colab": {
          "base_uri": "https://localhost:8080/",
          "height": 369
        },
        "id": "6tdG4xl2gKeG",
        "outputId": "84f96658-9a72-49d1-bfff-c56a05586a67"
      },
      "outputs": [
        {
          "output_type": "display_data",
          "data": {
            "text/plain": [
              "<Figure size 421.25x360 with 1 Axes>"
            ],
            "image/png": "[encoded data removed]"
          },
          "metadata": {
            "needs_background": "light"
          }
        }
      ],
      "source": [
        "sns.catplot(data=df_train,x='Contract',hue='Churn',kind='count') ;"
      ]
    },
    {
      "cell_type": "markdown",
      "metadata": {
        "id": "UGA9dq9yf-wV"
      },
      "source": [
        "* As predicted, Customers with Month-to-Month contracts churn the services more that any other contracts type."
      ]
    },
    {
      "cell_type": "code",
      "execution_count": 134,
      "metadata": {
        "colab": {
          "base_uri": "https://localhost:8080/",
          "height": 369
        },
        "id": "ngz0tA5g801t",
        "outputId": "67875763-164d-426b-f790-0eeb2e8aa946"
      },
      "outputs": [
        {
          "output_type": "display_data",
          "data": {
            "text/plain": [
              "<Figure size 421.25x360 with 1 Axes>"
            ],
            "image/png": "[encoded data removed]"
          },
          "metadata": {
            "needs_background": "light"
          }
        }
      ],
      "source": [
        "sns.catplot(data=df_train,x='PaperlessBilling',hue=\"Churn\",kind= 'count') ;"
      ]
    },
    {
      "cell_type": "markdown",
      "metadata": {
        "id": "OnDNP1Zg99e5"
      },
      "source": [
        "* Customers with paperless billing churn services more than others"
      ]
    },
    {
      "cell_type": "code",
      "execution_count": 135,
      "metadata": {
        "colab": {
          "base_uri": "https://localhost:8080/",
          "height": 458
        },
        "id": "9_kl9sU7Zgh_",
        "outputId": "363bb0ed-051a-4875-fa55-5c9c1fdac92c"
      },
      "outputs": [
        {
          "output_type": "display_data",
          "data": {
            "text/plain": [
              "<Figure size 421.25x360 with 1 Axes>"
            ],
            "image/png": "[encoded data removed]"
          },
          "metadata": {
            "needs_background": "light"
          }
        }
      ],
      "source": [
        "plot = sns.catplot(data=df_train,x='PaymentMethod',hue='Churn',kind='count') ;\n",
        "plot.set_xticklabels(rotation=45) ;"
      ]
    },
    {
      "cell_type": "markdown",
      "metadata": {
        "id": "ilbCC8PZbjVN"
      },
      "source": [
        "* It's obvious that the electronic check payment method might have a bad influence on the customers"
      ]
    },
    {
      "cell_type": "code",
      "execution_count": 136,
      "metadata": {
        "colab": {
          "base_uri": "https://localhost:8080/"
        },
        "id": "pHkFWumRxd69",
        "outputId": "3e2831ab-f665-4741-b43e-952994d00e48"
      },
      "outputs": [
        {
          "output_type": "execute_result",
          "data": {
            "text/plain": [
              "Churn\n",
              "False    2558.424280\n",
              "True     1517.891975\n",
              "Name: TotalCharges, dtype: float64"
            ]
          },
          "metadata": {},
          "execution_count": 136
        }
      ],
      "source": [
        "df_train.groupby('Churn')['TotalCharges'].mean()"
      ]
    },
    {
      "cell_type": "code",
      "execution_count": 137,
      "metadata": {
        "colab": {
          "base_uri": "https://localhost:8080/",
          "height": 279
        },
        "id": "fS2Vdq03LliQ",
        "outputId": "1ff1a5f2-0e5c-4fe4-cdda-d028b50fc81c"
      },
      "outputs": [
        {
          "output_type": "display_data",
          "data": {
            "text/plain": [
              "<Figure size 432x288 with 1 Axes>"
            ],
            "image/png": "[encoded data removed]"
          },
          "metadata": {
            "needs_background": "light"
          }
        }
      ],
      "source": [
        "sns.histplot(data = df_train , x = 'TotalCharges' , hue = 'Churn') ;"
      ]
    },
    {
      "cell_type": "markdown",
      "metadata": {
        "id": "Wlmq7NnN75SQ"
      },
      "source": [
        "* Customers who churn the company's services share the same distibution in Total Charges with the rest of customers which points to that they don't leave for financial causes."
      ]
    },
    {
      "cell_type": "markdown",
      "metadata": {
        "id": "aBQeN3hqH-Vw"
      },
      "source": [
        "# ***Conclusion***"
      ]
    },
    {
      "cell_type": "markdown",
      "metadata": {
        "id": "H8LPlqAzIGNi"
      },
      "source": [
        "* Gender & Dependants don't have influence on customer's churn.\n",
        "\n",
        "* Seniorcitezens customers and customers with partners , high tenure and paperless billing are more prone to leave the company.\n",
        "\n",
        "* Fiber optic InternetService and electronic check payment have a huge bad influence on customers\n",
        "\n",
        "* Customers with Month-to-Month contracts churn the services more than any other contracts type.\n",
        "\n",
        "\n",
        "\n",
        "\n",
        "\n"
      ]
    },
    {
      "cell_type": "markdown",
      "metadata": {
        "id": "7tvxdIPzIHkh"
      },
      "source": [
        "# ***Feature Engineering - Data Preprocessing***"
      ]
    },
    {
      "cell_type": "code",
      "execution_count": 138,
      "metadata": {
        "id": "T_UVZVG7fHZf"
      },
      "outputs": [],
      "source": [
        "def encode_nominal_variable(dataframe,column_name) :\n",
        "  one_hot_encoded = pd.get_dummies(dataframe[column_name],prefix=column_name)\n",
        "  dataframe = pd.concat([dataframe,one_hot_encoded],axis=1)\n",
        "  dataframe.drop([column_name],axis=1,inplace=True)\n",
        "  return dataframe"
      ]
    },
    {
      "cell_type": "code",
      "execution_count": 139,
      "metadata": {
        "id": "A7fJuQBBIcPO"
      },
      "outputs": [],
      "source": [
        "def encode_bool_variable(dataframe,column_name) :\n",
        "  dataframe[column_name] = dataframe[column_name].astype(int)\n",
        "  return dataframe"
      ]
    },
    {
      "cell_type": "code",
      "source": [
        "def preprocess_data(data) :\n",
        "\n",
        "  data.drop(['customerID'], axis=1,inplace = True)\n",
        "\n",
        "  # ont-hot-encoding for the categorical columns\n",
        "  nominal_variable = ['gender' , 'InternetService' , 'Contract' , 'PaymentMethod']\n",
        "  for column in nominal_variable :\n",
        "    data = encode_nominal_variable(data,column)\n",
        "\n",
        "\n",
        "  #encoding boolean columns into numerical ones\n",
        "  bool_columns = ['SeniorCitizen' , 'Partner' , 'Dependents','PhoneService','MultipleLines','OnlineSecurity','OnlineBackup', 'DeviceProtection','TechSupport','StreamingTV',\n",
        "                'StreamingMovies','PaperlessBilling','Churn']\n",
        "  for column in bool_columns :\n",
        "    data = encode_bool_variable(data,column)\n",
        "\n",
        "\n",
        "  # standarizing numerical columns\n",
        "  float_columns = ['tenure','MonthlyCharges','TotalCharges']\n",
        "  scaler = MinMaxScaler()\n",
        "  data[float_columns] = scaler.fit_transform(data[float_columns])\n",
        "\n",
        "  # Splitting data into features and target sets \n",
        "  y = data[\"Churn\"]\n",
        "  x = data.drop(['Churn'],axis=1)\n",
        "\n",
        "  return x,y"
      ],
      "metadata": {
        "id": "ZQllAnMQZMkD"
      },
      "execution_count": 140,
      "outputs": []
    },
    {
      "cell_type": "markdown",
      "metadata": {
        "id": "CDcd2HeHT9DQ"
      },
      "source": [
        "# ***Splitting data into training and cross-validation sets***"
      ]
    },
    {
      "cell_type": "code",
      "execution_count": 141,
      "metadata": {
        "id": "xByFlw7UTNdg"
      },
      "outputs": [],
      "source": [
        "# splitting data into training & validation sets so we can validate our model on a data it hasn't seen before.\n",
        "x,y = preprocess_data(df_train)\n",
        "x_train,x_validation,  y_train , y_validation = train_test_split(x,y,random_state=42,test_size=.1)"
      ]
    },
    {
      "cell_type": "markdown",
      "metadata": {
        "id": "AE7NxPpDMD3Z"
      },
      "source": [
        "# ***Shortlisting Promising model***\n"
      ]
    },
    {
      "cell_type": "markdown",
      "source": [
        "*Since the main concern is to predict if the customer is going to churn the company services or not, then my biggest interest here would be the recall score. I won't give much weight to the false positives-(Better safe than sorry).*"
      ],
      "metadata": {
        "id": "40OB9Y-uIdFe"
      }
    },
    {
      "cell_type": "code",
      "execution_count": 142,
      "metadata": {
        "id": "63HaI4KtCEfe"
      },
      "outputs": [],
      "source": [
        "# defining function to train the provided model and test it on the validation data and return the recall score\n",
        "def get_metrics(model,training_data,training_target,validation_data,validation_target) :\n",
        "  model.fit(training_data,training_target)\n",
        "  y_pred = model.predict(validation_data)\n",
        "  recall = recall_score(y_pred=y_pred,y_true=validation_target)\n",
        "  return  recall"
      ]
    },
    {
      "cell_type": "markdown",
      "metadata": {
        "id": "rXGX-_JUSoFp"
      },
      "source": [
        "## ***Logistic Regression***"
      ]
    },
    {
      "cell_type": "code",
      "execution_count": 143,
      "metadata": {
        "id": "juZb8yITCGyA"
      },
      "outputs": [],
      "source": [
        "logistic_regression_model = LogisticRegression(random_state=42)\n",
        "\n",
        "# using the predefined function to return the recall score of the logistic regression model\n",
        "logistic_recall = get_metrics(logistic_regression_model,x_train,y_train,x_validation,y_validation)"
      ]
    },
    {
      "cell_type": "code",
      "execution_count": 144,
      "metadata": {
        "colab": {
          "base_uri": "https://localhost:8080/"
        },
        "id": "l-OaACm7Vmi-",
        "outputId": "51f90933-cf20-46e6-d8e3-e6a204896222"
      },
      "outputs": [
        {
          "output_type": "stream",
          "name": "stdout",
          "text": [
            "Logistic Regression recall : 0.5195530726256983\n"
          ]
        }
      ],
      "source": [
        "print(f\"Logistic Regression recall : {logistic_recall}\")"
      ]
    },
    {
      "cell_type": "markdown",
      "metadata": {
        "id": "mSwrtLHaStSt"
      },
      "source": [
        "## ***Decision Tree***"
      ]
    },
    {
      "cell_type": "code",
      "execution_count": 145,
      "metadata": {
        "id": "RzVuWVg0Vmsh"
      },
      "outputs": [],
      "source": [
        "decision_tree_model = DecisionTreeClassifier(random_state=42)\n",
        "\n",
        "# using the predefined function to return the recall score of the Decision tree model\n",
        "decision_tree_recall  = get_metrics(decision_tree_model,x_train,y_train,x_validation,y_validation)"
      ]
    },
    {
      "cell_type": "code",
      "execution_count": 146,
      "metadata": {
        "colab": {
          "base_uri": "https://localhost:8080/"
        },
        "id": "xj4kD-PHVmvb",
        "outputId": "5497a16f-cbce-453a-d768-43551f4b6471"
      },
      "outputs": [
        {
          "output_type": "stream",
          "name": "stdout",
          "text": [
            "Decision Tree recall : 0.4748603351955307\n"
          ]
        }
      ],
      "source": [
        "print(f\"Decision Tree recall : {decision_tree_recall}\")"
      ]
    },
    {
      "cell_type": "markdown",
      "metadata": {
        "id": "NlHhWG1e9iMU"
      },
      "source": [
        "## ***SVC***"
      ]
    },
    {
      "cell_type": "code",
      "execution_count": 147,
      "metadata": {
        "id": "RTGuPZOTW7co"
      },
      "outputs": [],
      "source": [
        "svc_model = SVC(random_state=21) ;\n",
        "\n",
        "# using the predefined function to return the recall score of the SVC model\n",
        "svc_recall  = get_metrics(svc_model,x_train,y_train,x_validation,y_validation)"
      ]
    },
    {
      "cell_type": "code",
      "execution_count": 148,
      "metadata": {
        "colab": {
          "base_uri": "https://localhost:8080/"
        },
        "id": "htRf9lkH2VEQ",
        "outputId": "50ba0e0b-2e00-4825-c38e-6392e69302fc"
      },
      "outputs": [
        {
          "output_type": "stream",
          "name": "stdout",
          "text": [
            "SVC recall : 0.49162011173184356\n"
          ]
        }
      ],
      "source": [
        "print(f\"SVC recall : {svc_recall}\")"
      ]
    },
    {
      "cell_type": "markdown",
      "metadata": {
        "id": "h7rI9D6s-Y85"
      },
      "source": [
        "## ***K Nearest Neighbors***"
      ]
    },
    {
      "cell_type": "code",
      "execution_count": 149,
      "metadata": {
        "id": "4m8gO8SL2VMu"
      },
      "outputs": [],
      "source": [
        "knn_model = KNeighborsClassifier()\n",
        "\n",
        "# using the predefined function to return the recall score of the K Nearest Neighbors model\n",
        "knn_recall  = get_metrics(knn_model,x_train,y_train,x_validation,y_validation)"
      ]
    },
    {
      "cell_type": "code",
      "execution_count": 150,
      "metadata": {
        "colab": {
          "base_uri": "https://localhost:8080/"
        },
        "id": "LyvKohaFBHcI",
        "outputId": "29eaf559-67d8-477c-a576-b2b2733a0c77"
      },
      "outputs": [
        {
          "output_type": "stream",
          "name": "stdout",
          "text": [
            "KNN recall : 0.48044692737430167\n"
          ]
        }
      ],
      "source": [
        "print(f\"KNN recall : {knn_recall}\")"
      ]
    },
    {
      "cell_type": "markdown",
      "metadata": {
        "id": "cflTdCtoA3MZ"
      },
      "source": [
        "## ***Gradient Boosting***"
      ]
    },
    {
      "cell_type": "code",
      "execution_count": 151,
      "metadata": {
        "id": "chaXqmRsA8YS"
      },
      "outputs": [],
      "source": [
        "gb_model = GradientBoostingClassifier(random_state = 42)\n",
        "\n",
        "# using the predefined function to return the recall score of the Gradient Boosting model\n",
        "gb_recall = get_metrics(gb_model,x_train,y_train,x_validation,y_validation)"
      ]
    },
    {
      "cell_type": "code",
      "execution_count": 152,
      "metadata": {
        "colab": {
          "base_uri": "https://localhost:8080/"
        },
        "id": "wCr7KaUEBvqc",
        "outputId": "2e824e3f-f5d4-44b6-c748-80996da09d43"
      },
      "outputs": [
        {
          "output_type": "stream",
          "name": "stdout",
          "text": [
            "Gradient Boosting recall : 0.5027932960893855\n"
          ]
        }
      ],
      "source": [
        "print(f\"Gradient Boosting recall : {gb_recall}\")"
      ]
    },
    {
      "cell_type": "markdown",
      "source": [
        "## ***Random Forest***"
      ],
      "metadata": {
        "id": "vtAurJcYcHtb"
      }
    },
    {
      "cell_type": "code",
      "source": [
        "rf_model = RandomForestClassifier(random_state = 42)\n",
        "\n",
        "# using the predefined function to return the recall score of the Random Forest model\n",
        "rf_recall = get_metrics(rf_model,x_train,y_train,x_validation,y_validation)"
      ],
      "metadata": {
        "id": "IHuKCpdBcRzU"
      },
      "execution_count": 153,
      "outputs": []
    },
    {
      "cell_type": "code",
      "source": [
        "print(f\"Random Forest recall : {rf_recall}\")"
      ],
      "metadata": {
        "colab": {
          "base_uri": "https://localhost:8080/"
        },
        "id": "mR_euFn1cR24",
        "outputId": "0f6b4b94-1d4f-4c8d-b0ca-515177d50e7e"
      },
      "execution_count": 154,
      "outputs": [
        {
          "output_type": "stream",
          "name": "stdout",
          "text": [
            "Random Forest recall : 0.44692737430167595\n"
          ]
        }
      ]
    },
    {
      "cell_type": "markdown",
      "metadata": {
        "id": "qrXfWCtON68s"
      },
      "source": [
        "*Now after i evaluated several models with the default hyperparameters i'll choose just one to fine tune it's hyperparameters in order to get better results, since the Logistic Regression model got the best score i'll choose to go further with it*"
      ]
    },
    {
      "cell_type": "markdown",
      "metadata": {
        "id": "XOf8x_eXPXc1"
      },
      "source": [
        "# ***Model's hyperparameter tuning***"
      ]
    },
    {
      "cell_type": "markdown",
      "metadata": {
        "id": "3xKxWuajUdcA"
      },
      "source": [
        "**Logistic Regression model Hyperparametes :**\n",
        "\n",
        "1. penalty: Regularization parameter   \n",
        "2. solver : Algorithm to use in the optimization problem\n",
        "3. C: Inverse of regularization strength\n",
        "\n",
        "\n"
      ]
    },
    {
      "cell_type": "code",
      "source": [
        "# defining a parameter grid to be used with gridsearch\n",
        "pararm_grid = {\"penalty\" : [\"l1\",\"l2\",\"elasticnet\"] , \"solver\" : [\"lbfgs\", \"liblinear\", \"sag\"] , 'C': [0.001, 0.01, 0.1, 1, 10] }"
      ],
      "metadata": {
        "id": "8pOarhQpA-YG"
      },
      "execution_count": 155,
      "outputs": []
    },
    {
      "cell_type": "code",
      "source": [
        "logistic_regression_model = LogisticRegression()\n",
        "\n",
        "# Applying GridSearchCV method for tuning the model's hyperparameters\n",
        "score = make_scorer(recall_score)\n",
        "grid_search = GridSearchCV(logistic_regression_model,pararm_grid,scoring=score,cv=5)\n",
        "grid_search.fit(x_train,y_train)"
      ],
      "metadata": {
        "id": "toegKXVlBmCd"
      },
      "execution_count": null,
      "outputs": []
    },
    {
      "cell_type": "code",
      "source": [
        "print(\"Best Estimator : {}\".format(grid_search.best_estimator_))\n",
        "print(\"Best Score : {}\".format(grid_search.best_score_))\n",
        "print(\"Best Parameters : {}\".format(grid_search.best_params_))"
      ],
      "metadata": {
        "colab": {
          "base_uri": "https://localhost:8080/"
        },
        "id": "xDY06lwpB6-k",
        "outputId": "73ddb123-a43c-4968-df02-f1bf54a95b5c"
      },
      "execution_count": 157,
      "outputs": [
        {
          "output_type": "stream",
          "name": "stdout",
          "text": [
            "Best Estimator : LogisticRegression(C=10, penalty='l1', solver='liblinear')\n",
            "Best Score : 0.5511215161649945\n",
            "Best Parameters : {'C': 10, 'penalty': 'l1', 'solver': 'liblinear'}\n"
          ]
        }
      ]
    },
    {
      "cell_type": "code",
      "source": [
        "# evaluating the model with the best parameters on the validation set\n",
        "logistic_regression_model = grid_search.best_estimator_\n",
        "logistic_regression_model.fit(x_train,y_train)\n",
        "y_pred = logistic_regression_model.predict(x_validation)\n",
        "recall = recall_score(y_pred=y_pred,y_true=y_validation)\n",
        "print(f\"Recall : {recall}\")"
      ],
      "metadata": {
        "id": "3gOD55n490QR",
        "colab": {
          "base_uri": "https://localhost:8080/"
        },
        "outputId": "a58bc059-d581-40e4-b0db-f079720589af"
      },
      "execution_count": 158,
      "outputs": [
        {
          "output_type": "stream",
          "name": "stdout",
          "text": [
            "Recall 0.5251396648044693\n"
          ]
        }
      ]
    },
    {
      "cell_type": "markdown",
      "source": [
        "*After fine tuning the hyperparameters with the grid search, the recall increased only by .01, So now i'l find a better way to get a higher recall score*"
      ],
      "metadata": {
        "id": "aFkvxd2PMKbR"
      }
    },
    {
      "cell_type": "markdown",
      "source": [
        "## ***1- Oversampling***\n",
        "\n"
      ],
      "metadata": {
        "id": "v2nPCKpEHyal"
      }
    },
    {
      "cell_type": "code",
      "source": [
        "smote = SMOTE(random_state=42)\n",
        "x_train_smote, y_train_smote = smote.fit_resample(x_train,y_train)"
      ],
      "metadata": {
        "id": "qdmmVRUTCyUO"
      },
      "execution_count": 159,
      "outputs": []
    },
    {
      "cell_type": "code",
      "source": [
        "logistic_regression_model = LogisticRegression()\n",
        "\n",
        "# Applying GridSearchCV method for tuning the model's hyperparameters\n",
        "score = make_scorer(recall_score)\n",
        "grid_search = GridSearchCV(logistic_regression_model,pararm_grid,scoring=score,cv=5)\n",
        "grid_search.fit(x_train_smote,y_train_smote)"
      ],
      "metadata": {
        "id": "KdcdIw-5H2lB"
      },
      "execution_count": null,
      "outputs": []
    },
    {
      "cell_type": "code",
      "source": [
        "print(\"Best Estimator : {}\".format(grid_search.best_estimator_))\n",
        "print(\"Best Score : {}\".format(grid_search.best_score_))\n",
        "print(\"Best Parameters : {}\".format(grid_search.best_params_))"
      ],
      "metadata": {
        "colab": {
          "base_uri": "https://localhost:8080/"
        },
        "id": "MCUr9OA8CyXj",
        "outputId": "54762723-5dfb-42d5-ed05-8aaafda8a61d"
      },
      "execution_count": 161,
      "outputs": [
        {
          "output_type": "stream",
          "name": "stdout",
          "text": [
            "Best Estimator : LogisticRegression(C=10)\n",
            "Best Score : 0.8299131619274647\n",
            "Best Parameters : {'C': 10, 'penalty': 'l2', 'solver': 'lbfgs'}\n"
          ]
        }
      ]
    },
    {
      "cell_type": "code",
      "source": [
        "# evaluating the model with the best parameters on the validation set\n",
        "logistic_regression_model = grid_search.best_estimator_\n",
        "logistic_regression_model.fit(x_train_smote,y_train_smote)\n",
        "y_pred = logistic_regression_model.predict(x_validation)\n",
        "recall = recall_score(y_pred=y_pred,y_true=y_validation)"
      ],
      "metadata": {
        "id": "AWsiz89M4PRJ"
      },
      "execution_count": null,
      "outputs": []
    },
    {
      "cell_type": "code",
      "source": [
        "print(f\"Recall {recall}\")"
      ],
      "metadata": {
        "colab": {
          "base_uri": "https://localhost:8080/"
        },
        "id": "I9JoR93JNmw8",
        "outputId": "cfc20739-0bcd-45da-a1ed-c59b7a272558"
      },
      "execution_count": 163,
      "outputs": [
        {
          "output_type": "stream",
          "name": "stdout",
          "text": [
            "Recall 0.6703910614525139\n"
          ]
        }
      ]
    },
    {
      "cell_type": "markdown",
      "source": [
        "*Validation Score = .67*\n",
        "\n",
        "*Training score = .82*\n",
        "\n",
        "*It's obvious that the model overfitted the data and resulted in a significant lower recall score for the validation data so i'll try the undersampling technique*"
      ],
      "metadata": {
        "id": "XOFcIFFRPuNC"
      }
    },
    {
      "cell_type": "markdown",
      "source": [
        "## ***2- UnderSampling***"
      ],
      "metadata": {
        "id": "bH2JEWt9Oewx"
      }
    },
    {
      "cell_type": "code",
      "source": [
        "undersample = RandomUnderSampler(random_state=42)\n",
        "x_train_undersample, y_train_undersample = undersample.fit_resample(x_train, y_train)"
      ],
      "metadata": {
        "id": "uUUoP5aRCyaP"
      },
      "execution_count": 164,
      "outputs": []
    },
    {
      "cell_type": "code",
      "source": [
        "logistic_regression_model = LogisticRegression()\n",
        "\n",
        "# Applying GridSearchCV method for tuning the model's hyperparameters\n",
        "score = make_scorer(recall_score)\n",
        "grid_search = GridSearchCV(logistic_regression_model,pararm_grid,scoring=score,cv=5)\n",
        "grid_search.fit(x_train_undersample,y_train_undersample)"
      ],
      "metadata": {
        "id": "p2btI3TsIRym"
      },
      "execution_count": null,
      "outputs": []
    },
    {
      "cell_type": "code",
      "source": [
        "print(\"Best Estimator : {}\".format(grid_search.best_estimator_))\n",
        "print(\"Best Score : {}\".format(grid_search.best_score_))\n",
        "print(\"Best Parameters : {}\".format(grid_search.best_params_))"
      ],
      "metadata": {
        "colab": {
          "base_uri": "https://localhost:8080/"
        },
        "id": "C5ps9xIwPJWr",
        "outputId": "585b91eb-2d48-4cfe-c850-62f266dff504"
      },
      "execution_count": 166,
      "outputs": [
        {
          "output_type": "stream",
          "name": "stdout",
          "text": [
            "Best Estimator : LogisticRegression(C=0.01, penalty='l1', solver='liblinear')\n",
            "Best Score : 0.8717480490523968\n",
            "Best Parameters : {'C': 0.01, 'penalty': 'l1', 'solver': 'liblinear'}\n"
          ]
        }
      ]
    },
    {
      "cell_type": "code",
      "execution_count": 167,
      "metadata": {
        "id": "Wl_CA1rtIDqr"
      },
      "outputs": [],
      "source": [
        "# evaluating the model with the best parameters on the validation set\n",
        "logistic_regression_model = grid_search.best_estimator_\n",
        "logistic_regression_model.fit(x_train_undersample,y_train_undersample)\n",
        "y_pred = logistic_regression_model.predict(x_validation)\n",
        "recall = recall_score(y_pred=y_pred,y_true=y_validation)"
      ]
    },
    {
      "cell_type": "code",
      "execution_count": 168,
      "metadata": {
        "id": "xm-FYARlID5y",
        "colab": {
          "base_uri": "https://localhost:8080/"
        },
        "outputId": "8be90876-b60b-4245-bb20-49e0a8f947be"
      },
      "outputs": [
        {
          "output_type": "stream",
          "name": "stdout",
          "text": [
            "Recall 0.8100558659217877\n"
          ]
        }
      ],
      "source": [
        "print(f\"Recall {recall}\")"
      ]
    },
    {
      "cell_type": "code",
      "execution_count": 169,
      "metadata": {
        "id": "tK5AdTPXIECd",
        "colab": {
          "base_uri": "https://localhost:8080/"
        },
        "outputId": "30a67993-7b4c-4f4a-e8b5-a3ca99938e46"
      },
      "outputs": [
        {
          "output_type": "stream",
          "name": "stdout",
          "text": [
            "Training data shape after performing Undersampling(2994, 27)\n"
          ]
        }
      ],
      "source": [
        "print(f\"Training data shape after performing Undersampling{x_train_undersample.shape}\")"
      ]
    },
    {
      "cell_type": "markdown",
      "source": [
        "*Despite getting better results with using undersampling but the size of the training data is cutted into nearly half the original size which is one of the biggest disadvantages for the undersampling technique*"
      ],
      "metadata": {
        "id": "_K_v9kvzRPLr"
      }
    },
    {
      "cell_type": "markdown",
      "source": [
        "***Now after i fine tuned the hyperparameters of the model and applied undersampling on the training data, it's time to check the model performance on a data that it hasn't seen before aka testing data***"
      ],
      "metadata": {
        "id": "oWbaQfPru4_5"
      }
    },
    {
      "cell_type": "markdown",
      "source": [
        "# ***Testing the model's performance :***"
      ],
      "metadata": {
        "id": "8Z91OoW3Y2QC"
      }
    },
    {
      "cell_type": "code",
      "source": [
        "# Using the predefined preprocessing function to preprocess the testing dataset\n",
        "x_test,y_test = preprocess_data(df_testing)"
      ],
      "metadata": {
        "id": "HDF0Ntd3V9xA"
      },
      "execution_count": 170,
      "outputs": []
    },
    {
      "cell_type": "code",
      "source": [
        "# Evaluating the final model on the testing dataset using several metrics\n",
        "y_pred = logistic_regression_model.predict(x_test)\n",
        "accuracy = accuracy_score(y_pred=y_pred,y_true=y_test)\n",
        "recall = recall_score(y_pred=y_pred,y_true=y_test)\n",
        "precision =  precision_score(y_pred=y_pred,y_true=y_test)\n",
        "f1_score = f1_score(y_pred=y_pred,y_true=y_test)"
      ],
      "metadata": {
        "id": "K9xt3-GvV9z1"
      },
      "execution_count": 171,
      "outputs": []
    },
    {
      "cell_type": "code",
      "source": [
        "print(\"Model's performance for several metrics : \")\n",
        "print(f\"Recall :  {recall}\")\n",
        "print(f\"Accuracy :  {accuracy}\")\n",
        "print(f\"Precision :  {precision}\")\n",
        "print(f\"F1 Score :  {f1_score}\")"
      ],
      "metadata": {
        "colab": {
          "base_uri": "https://localhost:8080/"
        },
        "id": "Go6mXEcuSkMB",
        "outputId": "a3913bec-95f6-46b2-ec99-808912c92b94"
      },
      "execution_count": 172,
      "outputs": [
        {
          "output_type": "stream",
          "name": "stdout",
          "text": [
            "Model's performance for several metrics : \n",
            "Recall :  0.8341968911917098\n",
            "Accuracy :  0.7159090909090909\n",
            "Precision :  0.48936170212765956\n",
            "F1 Score :  0.6168582375478927\n"
          ]
        }
      ]
    },
    {
      "cell_type": "code",
      "source": [
        "# Displaying heatmap to show the confusion matrix of the testing dataset\n",
        "ax = sns.heatmap(confusion_matrix(y_true=y_test,y_pred=y_pred),center=True,annot=True, fmt=\".0f\") ;\n",
        "ax.set(xlabel=\"Predicted\", ylabel=\"Actual\")\n",
        "plt.show()"
      ],
      "metadata": {
        "colab": {
          "base_uri": "https://localhost:8080/",
          "height": 279
        },
        "id": "5PgWEvWsZ-3B",
        "outputId": "88473613-7f0f-404b-834e-1d2dae9c16ea"
      },
      "execution_count": 173,
      "outputs": [
        {
          "output_type": "display_data",
          "data": {
            "text/plain": [
              "<Figure size 432x288 with 2 Axes>"
            ],
            "image/png": "[encoded data removed]"
          },
          "metadata": {
            "needs_background": "light"
          }
        }
      ]
    }
  ],
  "metadata": {
    "colab": {
      "provenance": []
    },
    "gpuClass": "standard",
    "kernelspec": {
      "display_name": "Python 3",
      "name": "python3"
    },
    "language_info": {
      "name": "python"
    }
  },
  "nbformat": 4,
  "nbformat_minor": 0
}
